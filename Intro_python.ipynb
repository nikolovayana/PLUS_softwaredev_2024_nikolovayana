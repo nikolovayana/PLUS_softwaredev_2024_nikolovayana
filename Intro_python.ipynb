{
 "cells": [
  {
   "cell_type": "code",
   "execution_count": 1,
   "id": "e6a2169f-5da4-46d7-afbf-a8cc3b4e4a05",
   "metadata": {},
   "outputs": [],
   "source": [
    "#hi hi word"
   ]
  },
  {
   "cell_type": "code",
   "execution_count": 2,
   "id": "165e2406-0307-4d92-87b6-a7a3cd97255c",
   "metadata": {},
   "outputs": [
    {
     "data": {
      "text/plain": [
       "' This \\nis \\na \\nmultiline\\ncomment '"
      ]
     },
     "execution_count": 2,
     "metadata": {},
     "output_type": "execute_result"
    }
   ],
   "source": [
    "''' This \n",
    "is \n",
    "a \n",
    "multiline\n",
    "comment '''"
   ]
  },
  {
   "cell_type": "code",
   "execution_count": 4,
   "id": "4b76e3d2-470c-47f3-a5db-6b084833b25e",
   "metadata": {},
   "outputs": [],
   "source": [
    "answer = 'Yes'\n",
    "count = 5"
   ]
  },
  {
   "cell_type": "code",
   "execution_count": 9,
   "id": "341cac81-7847-44e1-9098-8d0940c65a17",
   "metadata": {},
   "outputs": [
    {
     "data": {
      "text/plain": [
       "int"
      ]
     },
     "execution_count": 9,
     "metadata": {},
     "output_type": "execute_result"
    }
   ],
   "source": [
    "type(count)\n"
   ]
  },
  {
   "cell_type": "code",
   "execution_count": 10,
   "id": "61a8d026-3eb3-456b-bc97-4d98de00bf7e",
   "metadata": {},
   "outputs": [
    {
     "name": "stdout",
     "output_type": "stream",
     "text": [
      "5\n"
     ]
    }
   ],
   "source": [
    "print(count)"
   ]
  },
  {
   "cell_type": "code",
   "execution_count": 11,
   "id": "db3037e5-ecdb-4ba0-92fb-0082ee0b9f6e",
   "metadata": {},
   "outputs": [],
   "source": [
    "text = '''\n",
    "yo\n",
    "yo\n",
    "yo\n",
    "'''"
   ]
  },
  {
   "cell_type": "code",
   "execution_count": 12,
   "id": "a2da6f67-ae07-4cab-8ca4-f4f630d64e1d",
   "metadata": {},
   "outputs": [
    {
     "data": {
      "text/plain": [
       "'\\nyo\\nyo\\nyo\\n'"
      ]
     },
     "execution_count": 12,
     "metadata": {},
     "output_type": "execute_result"
    }
   ],
   "source": [
    "text"
   ]
  },
  {
   "cell_type": "code",
   "execution_count": 15,
   "id": "deac16e1-8e3f-4aef-8062-a13b17ff4e06",
   "metadata": {},
   "outputs": [],
   "source": [
    "text1 = (\"yo \"\n",
    "         \"yo \"\n",
    "         \"yo \")"
   ]
  },
  {
   "cell_type": "code",
   "execution_count": 16,
   "id": "4349fd14-2b65-41a0-9eb1-2037bb5310bb",
   "metadata": {},
   "outputs": [
    {
     "data": {
      "text/plain": [
       "'yo yo yo '"
      ]
     },
     "execution_count": 16,
     "metadata": {},
     "output_type": "execute_result"
    }
   ],
   "source": [
    "text1"
   ]
  },
  {
   "cell_type": "code",
   "execution_count": 18,
   "id": "bedd67a6-bd89-45d2-90a5-5c0d9d746273",
   "metadata": {},
   "outputs": [
    {
     "data": {
      "text/plain": [
       "4.67"
      ]
     },
     "execution_count": 18,
     "metadata": {},
     "output_type": "execute_result"
    }
   ],
   "source": [
    "i = 4.673467832\n",
    "round (i, 2)"
   ]
  },
  {
   "cell_type": "code",
   "execution_count": 29,
   "id": "cc696fda-079f-4ba9-8dfd-329fa4507cf1",
   "metadata": {},
   "outputs": [
    {
     "name": "stdout",
     "output_type": "stream",
     "text": [
      "found an apple\n",
      "found a cherry\n",
      "found an apple\n",
      "found an apple\n"
     ]
    }
   ],
   "source": [
    "fruits = [\"apple\", \"banana\", \"cherry\", \"apple\", \"apple\"]\n",
    "for fruit in fruits:\n",
    "    if fruit == \"apple\":\n",
    "        print(\"found an apple\")\n",
    "    if fruit == \"cherry\":\n",
    "        print(\"found a cherry\")\n",
    "    # print(a)"
   ]
  }
 ],
 "metadata": {
  "kernelspec": {
   "display_name": "Python 3 (ipykernel)",
   "language": "python",
   "name": "python3"
  },
  "language_info": {
   "codemirror_mode": {
    "name": "ipython",
    "version": 3
   },
   "file_extension": ".py",
   "mimetype": "text/x-python",
   "name": "python",
   "nbconvert_exporter": "python",
   "pygments_lexer": "ipython3",
   "version": "3.9.18"
  }
 },
 "nbformat": 4,
 "nbformat_minor": 5
}
